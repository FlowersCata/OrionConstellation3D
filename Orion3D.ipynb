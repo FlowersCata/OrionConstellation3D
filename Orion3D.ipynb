{
 "cells": [
  {
   "cell_type": "markdown",
   "id": "325f99da",
   "metadata": {},
   "source": [
    "## Constelación de Orión en 3D\n",
    "\n"
   ]
  },
  {
   "cell_type": "markdown",
   "id": "9fee5473",
   "metadata": {},
   "source": [
    "Usaremos la base de datos SIMBAD para obtener las coordenadas RA y DEC de ocho estrellas de la constelación de Orión. \n",
    "\n",
    "Imagen de referencia:\n",
    "\n",
    "[Imagen de Orion]"
   ]
  },
  {
   "cell_type": "code",
   "execution_count": 5,
   "id": "bcf5a679",
   "metadata": {},
   "outputs": [
    {
     "data": {
      "text/html": [
       "<div><i>Table length=8</i>\n",
       "<table id=\"table136821658719856\" class=\"table-striped table-bordered table-condensed\">\n",
       "<thead><tr><th>MAIN_ID</th><th>RA</th><th>DEC</th><th>RA_PREC</th><th>DEC_PREC</th><th>COO_ERR_MAJA</th><th>COO_ERR_MINA</th><th>COO_ERR_ANGLE</th><th>COO_QUAL</th><th>COO_WAVELENGTH</th><th>COO_BIBCODE</th><th>SCRIPT_NUMBER_ID</th></tr></thead>\n",
       "<thead><tr><th></th><th>&quot;h:m:s&quot;</th><th>&quot;d:m:s&quot;</th><th></th><th></th><th>mas</th><th>mas</th><th>deg</th><th></th><th></th><th></th><th></th></tr></thead>\n",
       "<thead><tr><th>object</th><th>str13</th><th>str13</th><th>int16</th><th>int16</th><th>float32</th><th>float32</th><th>int16</th><th>str1</th><th>str1</th><th>object</th><th>int32</th></tr></thead>\n",
       "<tr><td>* alf Ori</td><td>05 55 10.3053</td><td>+07 24 25.430</td><td>9</td><td>9</td><td>9.040</td><td>5.720</td><td>90</td><td>A</td><td>O</td><td>2007A&amp;A...474..653V</td><td>1</td></tr>\n",
       "<tr><td>* lam Ori</td><td>05 35 08.2776</td><td>+09 56 02.961</td><td>9</td><td>9</td><td>5.270</td><td>2.910</td><td>90</td><td>A</td><td>O</td><td>2007A&amp;A...474..653V</td><td>2</td></tr>\n",
       "<tr><td>* gam Ori</td><td>05 25 07.8632</td><td>+06 20 58.931</td><td>9</td><td>9</td><td>4.410</td><td>3.070</td><td>90</td><td>A</td><td>O</td><td>2007A&amp;A...474..653V</td><td>3</td></tr>\n",
       "<tr><td>* zet Ori</td><td>05 40 45.5266</td><td>-01 56 33.264</td><td>9</td><td>9</td><td>5.190</td><td>2.290</td><td>90</td><td>A</td><td>O</td><td>2007A&amp;A...474..653V</td><td>4</td></tr>\n",
       "<tr><td>* eps Ori</td><td>05 36 12.8133</td><td>-01 12 06.908</td><td>9</td><td>9</td><td>3.690</td><td>1.670</td><td>90</td><td>A</td><td>O</td><td>2007A&amp;A...474..653V</td><td>5</td></tr>\n",
       "<tr><td>* del Ori</td><td>05 32 00.4000</td><td>-00 17 56.742</td><td>9</td><td>9</td><td>4.920</td><td>2.380</td><td>90</td><td>A</td><td>O</td><td>2007A&amp;A...474..653V</td><td>6</td></tr>\n",
       "<tr><td>* kap Ori</td><td>05 47 45.3888</td><td>-09 40 10.577</td><td>11</td><td>11</td><td>0.180</td><td>0.130</td><td>90</td><td>A</td><td>O</td><td>2007A&amp;A...474..653V</td><td>7</td></tr>\n",
       "<tr><td>* bet Ori</td><td>05 14 32.2721</td><td>-08 12 05.898</td><td>9</td><td>9</td><td>3.510</td><td>2.640</td><td>90</td><td>A</td><td>O</td><td>2007A&amp;A...474..653V</td><td>8</td></tr>\n",
       "</table></div>"
      ],
      "text/plain": [
       "<Table length=8>\n",
       " MAIN_ID        RA           DEC      RA_PREC DEC_PREC COO_ERR_MAJA COO_ERR_MINA COO_ERR_ANGLE COO_QUAL COO_WAVELENGTH     COO_BIBCODE     SCRIPT_NUMBER_ID\n",
       "             \"h:m:s\"       \"d:m:s\"                         mas          mas           deg                                                                  \n",
       "  object      str13         str13      int16   int16     float32      float32        int16       str1        str1             object            int32      \n",
       "--------- ------------- ------------- ------- -------- ------------ ------------ ------------- -------- -------------- ------------------- ----------------\n",
       "* alf Ori 05 55 10.3053 +07 24 25.430       9        9        9.040        5.720            90        A              O 2007A&A...474..653V                1\n",
       "* lam Ori 05 35 08.2776 +09 56 02.961       9        9        5.270        2.910            90        A              O 2007A&A...474..653V                2\n",
       "* gam Ori 05 25 07.8632 +06 20 58.931       9        9        4.410        3.070            90        A              O 2007A&A...474..653V                3\n",
       "* zet Ori 05 40 45.5266 -01 56 33.264       9        9        5.190        2.290            90        A              O 2007A&A...474..653V                4\n",
       "* eps Ori 05 36 12.8133 -01 12 06.908       9        9        3.690        1.670            90        A              O 2007A&A...474..653V                5\n",
       "* del Ori 05 32 00.4000 -00 17 56.742       9        9        4.920        2.380            90        A              O 2007A&A...474..653V                6\n",
       "* kap Ori 05 47 45.3888 -09 40 10.577      11       11        0.180        0.130            90        A              O 2007A&A...474..653V                7\n",
       "* bet Ori 05 14 32.2721 -08 12 05.898       9        9        3.510        2.640            90        A              O 2007A&A...474..653V                8"
      ]
     },
     "execution_count": 5,
     "metadata": {},
     "output_type": "execute_result"
    }
   ],
   "source": [
    "from astroquery.simbad import Simbad\n",
    "import numpy as np\n",
    "\n",
    "# Nombre de las estrellas\n",
    "orion_stars = [\"Betelgeuse\", \"Meissa\", \"Bellatrix\", \n",
    "               \"Alnitak\", \"Alnilam\", \"Mintaka\",\n",
    "               \"Saiph\", \"Rigel\"]\n",
    "\n",
    "# Extraemos tabla de datos desde SIMBAD\n",
    "orion_table = Simbad.query_objects(orion_stars)\n",
    "\n",
    "# Guardamos las coordenadas RA y DEC en listas\n",
    "ra_list = list(orion_table['RA'])     # hr min sec\n",
    "dec_list = list(orion_table['DEC'])   # deg arcmin arcsec\n",
    "\n",
    "orion_table"
   ]
  },
  {
   "cell_type": "markdown",
   "id": "7bc02b2f",
   "metadata": {},
   "source": [
    "Transformamos las coordenadas ecuatoriales RA DEC a grados de forma manual, aunque hay métodos ya establecidos para hacerlo en Astropy. Usaremos ambas metodologías y compararemos los resultados."
   ]
  },
  {
   "cell_type": "code",
   "execution_count": 48,
   "id": "6892fee3",
   "metadata": {},
   "outputs": [
    {
     "name": "stdout",
     "output_type": "stream",
     "text": [
      "[1.42108547e-14 2.84217094e-14 0.00000000e+00 1.42108547e-14\n",
      " 0.00000000e+00 1.42108547e-14 1.42108547e-14 1.42108547e-14]\n",
      "[-8.88178420e-16  0.00000000e+00  0.00000000e+00  0.00000000e+00\n",
      "  0.00000000e+00  0.00000000e+00 -1.77635684e-15  0.00000000e+00]\n"
     ]
    }
   ],
   "source": [
    "from astropy.coordinates import SkyCoord\n",
    "import astropy.units as u\n",
    "import matplotlib.pyplot as plt\n",
    "\n",
    "stars_ra, stars_dec = [], []\n",
    "stars_astropy_ra, stars_astropy_dec = [], []\n",
    "for i in range(len(ra_list)):\n",
    "\n",
    "    ## Convert coordinates to degrees (manually)\n",
    "\n",
    "    # Split RA\n",
    "    ra_i_hr = float(ra_list[i][:2])\n",
    "    ra_i_min = float(ra_list[i][3:5])\n",
    "    ra_i_sec = float(ra_list[i][6:])\n",
    "    \n",
    "    # Split DEC\n",
    "    dec_i_deg = float(dec_list[i][:3])\n",
    "    dec_i_amin = float(dec_list[i][4:6])\n",
    "    dec_i_asec = float(dec_list[i][7:])    \n",
    "    \n",
    "    # Convert RA, DEC to degrees\n",
    "    ra_deg = ((ra_i_sec/60 + ra_i_min)/60 + ra_i_hr)*360/24\n",
    "    dec_deg = ((dec_i_asec/60 + dec_i_amin)/60 + abs(dec_i_deg))\n",
    "    if dec_i_deg <= 0:\n",
    "        dec_deg *= -1\n",
    "    \n",
    "    stars_ra.append(ra_deg)    \n",
    "    stars_dec.append(dec_deg)\n",
    "    \n",
    "    ## Convert coordinates to degrees (Astropy)\n",
    "    \n",
    "    astropy_coords = SkyCoord(f\"{ra_list[i]} {dec_list[i]}\", unit=(u.hourangle, u.deg))\n",
    "    ra_astropy_deg = astropy_coords.ra.deg\n",
    "    dec_astropy_deg = astropy_coords.dec.deg\n",
    "    \n",
    "    stars_astropy_ra.append(ra_astropy_deg)    \n",
    "    stars_astropy_dec.append(dec_astropy_deg)\n",
    "\n",
    "    # # Convert RA, DEC to radians\n",
    "    # ra_rad = ra_deg*2*np.pi/360\n",
    "    # dec_rad = dec_deg*2*np.pi/360    \n",
    "    # print(ra_rad, dec_rad)\n",
    "    # stars_ra.append(ra_rad)    \n",
    "    # stars_dec.append(dec_rad)\n",
    "\n",
    "stars_ra = np.array(stars_ra)\n",
    "stars_dec = np.array(stars_dec)\n",
    "stars_astropy_ra = np.array(stars_astropy_ra)\n",
    "stars_astropy_dec = np.array(stars_astropy_dec)\n",
    "\n",
    "ra_diff = stars_ra - stars_astropy_ra\n",
    "dec_diff = stars_dec - stars_astropy_dec\n",
    "\n",
    "print(ra_diff)\n",
    "print(dec_diff)"
   ]
  },
  {
   "cell_type": "markdown",
   "id": "1bc36fa3",
   "metadata": {},
   "source": [
    "La diferencia entre ambos métodos es mínima (del orden de $10^{-14}$ - $10^{-15}$ grados). Con esto validamos el método de cálculo manual."
   ]
  },
  {
   "cell_type": "code",
   "execution_count": 49,
   "id": "40b9e7bd",
   "metadata": {},
   "outputs": [
    {
     "data": {
      "text/plain": [
       "Text(0.5, 1.0, 'DEC manual - DEC Astropy')"
      ]
     },
     "execution_count": 49,
     "metadata": {},
     "output_type": "execute_result"
    },
    {
     "data": {
      "image/png": "[encoded data removed]",
      "text/plain": [
       "<Figure size 1000x300 with 2 Axes>"
      ]
     },
     "metadata": {},
     "output_type": "display_data"
    }
   ],
   "source": [
    "# Visual comparison\n",
    "fig, ax = plt.subplots(1,2, figsize=(10,3))\n",
    "ax[0].plot(ra_diff, 'k-')\n",
    "ax[0].axhline(0, c='r', ls='--')\n",
    "ax[0].set_title(\"RA manual - RA Astropy\")\n",
    "ax[1].plot(dec_diff, 'k-')\n",
    "ax[1].axhline(0, c='r', ls='--')\n",
    "ax[1].set_title(\"DEC manual - DEC Astropy\")"
   ]
  },
  {
   "cell_type": "markdown",
   "id": "c7626078",
   "metadata": {},
   "source": [
    "Para calcular la distancia desde la Tierra a cada estrella de la constelación de Orión, registramos el paralaje (medido en miliarcosegundos) informado en SIMBAD. La distancia en pársec se calculará entonces como \n",
    "\n",
    "$$d = \\frac{1000}{p}$$\n",
    "\n",
    "donde $d$ es la distancia y $p$ el paralaje. Hasta aquí ignoramos el error en la medición del paralaje y su efecto sobre el cálculo de la distancia. \n",
    "\n",
    "Finalmente, para convertir las distancias a años-luz, usamos el factor de escala 3.2615637769."
   ]
  },
  {
   "cell_type": "code",
   "execution_count": 51,
   "id": "a263b909",
   "metadata": {},
   "outputs": [
    {
     "data": {
      "text/plain": [
       "array([ 497.94866823, 1098.16962185,  252.44301679,  736.2446449 ,\n",
       "       1976.70531933,  692.47638575,  647.13567002,  862.84756003])"
      ]
     },
     "execution_count": 51,
     "metadata": {},
     "output_type": "execute_result"
    }
   ],
   "source": [
    "# Guardamos los paralajes en un arreglo\n",
    "parallaxes = np.array([6.55, 2.97, 12.92, # mas\n",
    "                       4.43, 1.65, 4.71,\n",
    "                       5.04, 3.78])\n",
    "# Distancias \n",
    "distances_pc = 1000/parallaxes           # pc\n",
    "distances_ly = distances_pc*3.2615637769 # ly\n",
    "\n",
    "distances_ly"
   ]
  },
  {
   "cell_type": "markdown",
   "id": "484cdeb3",
   "metadata": {},
   "source": [
    "Usando las coordenadas RA, DEC y las distancias a cada estrella, podemos calcular las coordenadas cartesianas $x$, $y$, $z$ de cada estrella."
   ]
  },
  {
   "cell_type": "code",
   "execution_count": 53,
   "id": "4c5866c9",
   "metadata": {},
   "outputs": [],
   "source": [
    "# Transformación de coordenadas esféricas a cartesianas\n",
    "x = distances_ly * np.cos(stars_dec*2*np.pi/360) * np.cos(stars_ra*2*np.pi/360)\n",
    "y = distances_ly * np.cos(stars_dec*2*np.pi/360) * np.sin(stars_ra*2*np.pi/360)\n",
    "z = distances_ly * np.sin(stars_dec*2*np.pi/360)"
   ]
  },
  {
   "cell_type": "markdown",
   "id": "d34c1396",
   "metadata": {},
   "source": [
    "Finalmente, podemos graficar las coordenadas $x$, $y$, $z$ en un gráfico interactivo 3D, que nos permite ver la posición de las estrellas de la constelación de Orión en el espacio. Para un mejor reconocimiento de la constelación, las estrellas del cinturón de Orión (también conocido como \"las Tres Marías\") aparecen destacadas con color azul."
   ]
  },
  {
   "cell_type": "code",
   "execution_count": 65,
   "id": "f2575d5e",
   "metadata": {},
   "outputs": [
    {
     "data": {
      "application/vnd.plotly.v1+json": {
       "config": {
        "plotlyServerURL": "https://plot.ly"
       },
       "data": [
        {
         "marker": {
          "color": [
           "red",
           "red",
           "red",
           "blue",
           "blue",
           "blue",
           "red",
           "red"
          ],
          "opacity": 0.8,
          "size": 3
         },
         "mode": "markers",
         "text": [
          "Betelgeuse",
          "Meissa",
          "Bellatrix",
          "Alnitak",
          "Alnilam",
          "Mintaka",
          "Saiph",
          "Rigel"
         ],
         "type": "scatter3d",
         "x": [
          10.402071914582267,
          117.11447818195532,
          38.025097298772366,
          61.70384613443107,
          204.74499978453954,
          84.37049966499103,
          34.06418618758243,
          168.30016919319434
         ],
         "y": [
          493.68384868502477,
          1075.3457984299896,
          247.99612984564018,
          733.22981171191,
          1965.6358282381086,
          687.307861528076,
          637.0315158890438,
          837.2750207686901
         ],
         "z": [
          64.19447513974826,
          189.45218699549412,
          27.919317362574873,
          -24.957077768362034,
          -41.46317993847258,
          -3.6148436358037848,
          -108.69707629698968,
          -123.09144767179744
         ]
        }
       ],
       "layout": {
        "margin": {
         "b": 0,
         "l": 0,
         "r": 0,
         "t": 40
        },
        "scene": {
         "aspectmode": "data",
         "camera": {
          "center": {
           "x": 0,
           "y": 0,
           "z": 0
          },
          "eye": {
           "x": -0.2,
           "y": -2.2,
           "z": -0.05
          },
          "up": {
           "x": 0,
           "y": 0,
           "z": 1
          }
         },
         "xaxis": {
          "nticks": 10,
          "range": [
           10.402071914582267,
           204.74499978453954
          ]
         },
         "yaxis": {
          "nticks": 10,
          "range": [
           247.99612984564018,
           1965.6358282381086
          ]
         },
         "zaxis": {
          "nticks": 10,
          "range": [
           -123.09144767179744,
           189.45218699549412
          ]
         }
        },
        "template": {
         "data": {
          "bar": [
           {
            "error_x": {
             "color": "#2a3f5f"
            },
            "error_y": {
             "color": "#2a3f5f"
            },
            "marker": {
             "line": {
              "color": "#E5ECF6",
              "width": 0.5
             },
             "pattern": {
              "fillmode": "overlay",
              "size": 10,
              "solidity": 0.2
             }
            },
            "type": "bar"
           }
          ],
          "barpolar": [
           {
            "marker": {
             "line": {
              "color": "#E5ECF6",
              "width": 0.5
             },
             "pattern": {
              "fillmode": "overlay",
              "size": 10,
              "solidity": 0.2
             }
            },
            "type": "barpolar"
           }
          ],
          "carpet": [
           {
            "aaxis": {
             "endlinecolor": "#2a3f5f",
             "gridcolor": "white",
             "linecolor": "white",
             "minorgridcolor": "white",
             "startlinecolor": "#2a3f5f"
            },
            "baxis": {
             "endlinecolor": "#2a3f5f",
             "gridcolor": "white",
             "linecolor": "white",
             "minorgridcolor": "white",
             "startlinecolor": "#2a3f5f"
            },
            "type": "carpet"
           }
          ],
          "choropleth": [
           {
            "colorbar": {
             "outlinewidth": 0,
             "ticks": ""
            },
            "type": "choropleth"
           }
          ],
          "contour": [
           {
            "colorbar": {
             "outlinewidth": 0,
             "ticks": ""
            },
            "colorscale": [
             [
              0,
              "#0d0887"
             ],
             [
              0.1111111111111111,
              "#46039f"
             ],
             [
              0.2222222222222222,
              "#7201a8"
             ],
             [
              0.3333333333333333,
              "#9c179e"
             ],
             [
              0.4444444444444444,
              "#bd3786"
             ],
             [
              0.5555555555555556,
              "#d8576b"
             ],
             [
              0.6666666666666666,
              "#ed7953"
             ],
             [
              0.7777777777777778,
              "#fb9f3a"
             ],
             [
              0.8888888888888888,
              "#fdca26"
             ],
             [
              1,
              "#f0f921"
             ]
            ],
            "type": "contour"
           }
          ],
          "contourcarpet": [
           {
            "colorbar": {
             "outlinewidth": 0,
             "ticks": ""
            },
            "type": "contourcarpet"
           }
          ],
          "heatmap": [
           {
            "colorbar": {
             "outlinewidth": 0,
             "ticks": ""
            },
            "colorscale": [
             [
              0,
              "#0d0887"
             ],
             [
              0.1111111111111111,
              "#46039f"
             ],
             [
              0.2222222222222222,
              "#7201a8"
             ],
             [
              0.3333333333333333,
              "#9c179e"
             ],
             [
              0.4444444444444444,
              "#bd3786"
             ],
             [
              0.5555555555555556,
              "#d8576b"
             ],
             [
              0.6666666666666666,
              "#ed7953"
             ],
             [
              0.7777777777777778,
              "#fb9f3a"
             ],
             [
              0.8888888888888888,
              "#fdca26"
             ],
             [
              1,
              "#f0f921"
             ]
            ],
            "type": "heatmap"
           }
          ],
          "heatmapgl": [
           {
            "colorbar": {
             "outlinewidth": 0,
             "ticks": ""
            },
            "colorscale": [
             [
              0,
              "#0d0887"
             ],
             [
              0.1111111111111111,
              "#46039f"
             ],
             [
              0.2222222222222222,
              "#7201a8"
             ],
             [
              0.3333333333333333,
              "#9c179e"
             ],
             [
              0.4444444444444444,
              "#bd3786"
             ],
             [
              0.5555555555555556,
              "#d8576b"
             ],
             [
              0.6666666666666666,
              "#ed7953"
             ],
             [
              0.7777777777777778,
              "#fb9f3a"
             ],
             [
              0.8888888888888888,
              "#fdca26"
             ],
             [
              1,
              "#f0f921"
             ]
            ],
            "type": "heatmapgl"
           }
          ],
          "histogram": [
           {
            "marker": {
             "pattern": {
              "fillmode": "overlay",
              "size": 10,
              "solidity": 0.2
             }
            },
            "type": "histogram"
           }
          ],
          "histogram2d": [
           {
            "colorbar": {
             "outlinewidth": 0,
             "ticks": ""
            },
            "colorscale": [
             [
              0,
              "#0d0887"
             ],
             [
              0.1111111111111111,
              "#46039f"
             ],
             [
              0.2222222222222222,
              "#7201a8"
             ],
             [
              0.3333333333333333,
              "#9c179e"
             ],
             [
              0.4444444444444444,
              "#bd3786"
             ],
             [
              0.5555555555555556,
              "#d8576b"
             ],
             [
              0.6666666666666666,
              "#ed7953"
             ],
             [
              0.7777777777777778,
              "#fb9f3a"
             ],
             [
              0.8888888888888888,
              "#fdca26"
             ],
             [
              1,
              "#f0f921"
             ]
            ],
            "type": "histogram2d"
           }
          ],
          "histogram2dcontour": [
           {
            "colorbar": {
             "outlinewidth": 0,
             "ticks": ""
            },
            "colorscale": [
             [
              0,
              "#0d0887"
             ],
             [
              0.1111111111111111,
              "#46039f"
             ],
             [
              0.2222222222222222,
              "#7201a8"
             ],
             [
              0.3333333333333333,
              "#9c179e"
             ],
             [
              0.4444444444444444,
              "#bd3786"
             ],
             [
              0.5555555555555556,
              "#d8576b"
             ],
             [
              0.6666666666666666,
              "#ed7953"
             ],
             [
              0.7777777777777778,
              "#fb9f3a"
             ],
             [
              0.8888888888888888,
              "#fdca26"
             ],
             [
              1,
              "#f0f921"
             ]
            ],
            "type": "histogram2dcontour"
           }
          ],
          "mesh3d": [
           {
            "colorbar": {
             "outlinewidth": 0,
             "ticks": ""
            },
            "type": "mesh3d"
           }
          ],
          "parcoords": [
           {
            "line": {
             "colorbar": {
              "outlinewidth": 0,
              "ticks": ""
             }
            },
            "type": "parcoords"
           }
          ],
          "pie": [
           {
            "automargin": true,
            "type": "pie"
           }
          ],
          "scatter": [
           {
            "fillpattern": {
             "fillmode": "overlay",
             "size": 10,
             "solidity": 0.2
            },
            "type": "scatter"
           }
          ],
          "scatter3d": [
           {
            "line": {
             "colorbar": {
              "outlinewidth": 0,
              "ticks": ""
             }
            },
            "marker": {
             "colorbar": {
              "outlinewidth": 0,
              "ticks": ""
             }
            },
            "type": "scatter3d"
           }
          ],
          "scattercarpet": [
           {
            "marker": {
             "colorbar": {
              "outlinewidth": 0,
              "ticks": ""
             }
            },
            "type": "scattercarpet"
           }
          ],
          "scattergeo": [
           {
            "marker": {
             "colorbar": {
              "outlinewidth": 0,
              "ticks": ""
             }
            },
            "type": "scattergeo"
           }
          ],
          "scattergl": [
           {
            "marker": {
             "colorbar": {
              "outlinewidth": 0,
              "ticks": ""
             }
            },
            "type": "scattergl"
           }
          ],
          "scattermapbox": [
           {
            "marker": {
             "colorbar": {
              "outlinewidth": 0,
              "ticks": ""
             }
            },
            "type": "scattermapbox"
           }
          ],
          "scatterpolar": [
           {
            "marker": {
             "colorbar": {
              "outlinewidth": 0,
              "ticks": ""
             }
            },
            "type": "scatterpolar"
           }
          ],
          "scatterpolargl": [
           {
            "marker": {
             "colorbar": {
              "outlinewidth": 0,
              "ticks": ""
             }
            },
            "type": "scatterpolargl"
           }
          ],
          "scatterternary": [
           {
            "marker": {
             "colorbar": {
              "outlinewidth": 0,
              "ticks": ""
             }
            },
            "type": "scatterternary"
           }
          ],
          "surface": [
           {
            "colorbar": {
             "outlinewidth": 0,
             "ticks": ""
            },
            "colorscale": [
             [
              0,
              "#0d0887"
             ],
             [
              0.1111111111111111,
              "#46039f"
             ],
             [
              0.2222222222222222,
              "#7201a8"
             ],
             [
              0.3333333333333333,
              "#9c179e"
             ],
             [
              0.4444444444444444,
              "#bd3786"
             ],
             [
              0.5555555555555556,
              "#d8576b"
             ],
             [
              0.6666666666666666,
              "#ed7953"
             ],
             [
              0.7777777777777778,
              "#fb9f3a"
             ],
             [
              0.8888888888888888,
              "#fdca26"
             ],
             [
              1,
              "#f0f921"
             ]
            ],
            "type": "surface"
           }
          ],
          "table": [
           {
            "cells": {
             "fill": {
              "color": "#EBF0F8"
             },
             "line": {
              "color": "white"
             }
            },
            "header": {
             "fill": {
              "color": "#C8D4E3"
             },
             "line": {
              "color": "white"
             }
            },
            "type": "table"
           }
          ]
         },
         "layout": {
          "annotationdefaults": {
           "arrowcolor": "#2a3f5f",
           "arrowhead": 0,
           "arrowwidth": 1
          },
          "autotypenumbers": "strict",
          "coloraxis": {
           "colorbar": {
            "outlinewidth": 0,
            "ticks": ""
           }
          },
          "colorscale": {
           "diverging": [
            [
             0,
             "#8e0152"
            ],
            [
             0.1,
             "#c51b7d"
            ],
            [
             0.2,
             "#de77ae"
            ],
            [
             0.3,
             "#f1b6da"
            ],
            [
             0.4,
             "#fde0ef"
            ],
            [
             0.5,
             "#f7f7f7"
            ],
            [
             0.6,
             "#e6f5d0"
            ],
            [
             0.7,
             "#b8e186"
            ],
            [
             0.8,
             "#7fbc41"
            ],
            [
             0.9,
             "#4d9221"
            ],
            [
             1,
             "#276419"
            ]
           ],
           "sequential": [
            [
             0,
             "#0d0887"
            ],
            [
             0.1111111111111111,
             "#46039f"
            ],
            [
             0.2222222222222222,
             "#7201a8"
            ],
            [
             0.3333333333333333,
             "#9c179e"
            ],
            [
             0.4444444444444444,
             "#bd3786"
            ],
            [
             0.5555555555555556,
             "#d8576b"
            ],
            [
             0.6666666666666666,
             "#ed7953"
            ],
            [
             0.7777777777777778,
             "#fb9f3a"
            ],
            [
             0.8888888888888888,
             "#fdca26"
            ],
            [
             1,
             "#f0f921"
            ]
           ],
           "sequentialminus": [
            [
             0,
             "#0d0887"
            ],
            [
             0.1111111111111111,
             "#46039f"
            ],
            [
             0.2222222222222222,
             "#7201a8"
            ],
            [
             0.3333333333333333,
             "#9c179e"
            ],
            [
             0.4444444444444444,
             "#bd3786"
            ],
            [
             0.5555555555555556,
             "#d8576b"
            ],
            [
             0.6666666666666666,
             "#ed7953"
            ],
            [
             0.7777777777777778,
             "#fb9f3a"
            ],
            [
             0.8888888888888888,
             "#fdca26"
            ],
            [
             1,
             "#f0f921"
            ]
           ]
          },
          "colorway": [
           "#636efa",
           "#EF553B",
           "#00cc96",
           "#ab63fa",
           "#FFA15A",
           "#19d3f3",
           "#FF6692",
           "#B6E880",
           "#FF97FF",
           "#FECB52"
          ],
          "font": {
           "color": "#2a3f5f"
          },
          "geo": {
           "bgcolor": "white",
           "lakecolor": "white",
           "landcolor": "#E5ECF6",
           "showlakes": true,
           "showland": true,
           "subunitcolor": "white"
          },
          "hoverlabel": {
           "align": "left"
          },
          "hovermode": "closest",
          "mapbox": {
           "style": "light"
          },
          "paper_bgcolor": "white",
          "plot_bgcolor": "#E5ECF6",
          "polar": {
           "angularaxis": {
            "gridcolor": "white",
            "linecolor": "white",
            "ticks": ""
           },
           "bgcolor": "#E5ECF6",
           "radialaxis": {
            "gridcolor": "white",
            "linecolor": "white",
            "ticks": ""
           }
          },
          "scene": {
           "xaxis": {
            "backgroundcolor": "#E5ECF6",
            "gridcolor": "white",
            "gridwidth": 2,
            "linecolor": "white",
            "showbackground": true,
            "ticks": "",
            "zerolinecolor": "white"
           },
           "yaxis": {
            "backgroundcolor": "#E5ECF6",
            "gridcolor": "white",
            "gridwidth": 2,
            "linecolor": "white",
            "showbackground": true,
            "ticks": "",
            "zerolinecolor": "white"
           },
           "zaxis": {
            "backgroundcolor": "#E5ECF6",
            "gridcolor": "white",
            "gridwidth": 2,
            "linecolor": "white",
            "showbackground": true,
            "ticks": "",
            "zerolinecolor": "white"
           }
          },
          "shapedefaults": {
           "line": {
            "color": "#2a3f5f"
           }
          },
          "ternary": {
           "aaxis": {
            "gridcolor": "white",
            "linecolor": "white",
            "ticks": ""
           },
           "baxis": {
            "gridcolor": "white",
            "linecolor": "white",
            "ticks": ""
           },
           "bgcolor": "#E5ECF6",
           "caxis": {
            "gridcolor": "white",
            "linecolor": "white",
            "ticks": ""
           }
          },
          "title": {
           "x": 0.05
          },
          "xaxis": {
           "automargin": true,
           "gridcolor": "white",
           "linecolor": "white",
           "ticks": "",
           "title": {
            "standoff": 15
           },
           "zerolinecolor": "white",
           "zerolinewidth": 2
          },
          "yaxis": {
           "automargin": true,
           "gridcolor": "white",
           "linecolor": "white",
           "ticks": "",
           "title": {
            "standoff": 15
           },
           "zerolinecolor": "white",
           "zerolinewidth": 2
          }
         }
        }
       }
      },
      "text/html": [
       "<div>                            <div id=\"d234f582-ca1b-47e5-a8be-4946451e9d80\" class=\"plotly-graph-div\" style=\"height:525px; width:100%;\"></div>            <script type=\"text/javascript\">                require([\"plotly\"], function(Plotly) {                    window.PLOTLYENV=window.PLOTLYENV || {};                                    if (document.getElementById(\"d234f582-ca1b-47e5-a8be-4946451e9d80\")) {                    Plotly.newPlot(                        \"d234f582-ca1b-47e5-a8be-4946451e9d80\",                        [{\"marker\":{\"color\":[\"red\",\"red\",\"red\",\"blue\",\"blue\",\"blue\",\"red\",\"red\"],\"opacity\":0.8,\"size\":3},\"mode\":\"markers\",\"text\":[\"Betelgeuse\",\"Meissa\",\"Bellatrix\",\"Alnitak\",\"Alnilam\",\"Mintaka\",\"Saiph\",\"Rigel\"],\"x\":[10.402071914582267,117.11447818195532,38.025097298772366,61.70384613443107,204.74499978453954,84.37049966499103,34.06418618758243,168.30016919319434],\"y\":[493.68384868502477,1075.3457984299896,247.99612984564018,733.22981171191,1965.6358282381086,687.307861528076,637.0315158890438,837.2750207686901],\"z\":[64.19447513974826,189.45218699549412,27.919317362574873,-24.957077768362034,-41.46317993847258,-3.6148436358037848,-108.69707629698968,-123.09144767179744],\"type\":\"scatter3d\"}],                        {\"template\":{\"data\":{\"histogram2dcontour\":[{\"type\":\"histogram2dcontour\",\"colorbar\":{\"outlinewidth\":0,\"ticks\":\"\"},\"colorscale\":[[0.0,\"#0d0887\"],[0.1111111111111111,\"#46039f\"],[0.2222222222222222,\"#7201a8\"],[0.3333333333333333,\"#9c179e\"],[0.4444444444444444,\"#bd3786\"],[0.5555555555555556,\"#d8576b\"],[0.6666666666666666,\"#ed7953\"],[0.7777777777777778,\"#fb9f3a\"],[0.8888888888888888,\"#fdca26\"],[1.0,\"#f0f921\"]]}],\"choropleth\":[{\"type\":\"choropleth\",\"colorbar\":{\"outlinewidth\":0,\"ticks\":\"\"}}],\"histogram2d\":[{\"type\":\"histogram2d\",\"colorbar\":{\"outlinewidth\":0,\"ticks\":\"\"},\"colorscale\":[[0.0,\"#0d0887\"],[0.1111111111111111,\"#46039f\"],[0.2222222222222222,\"#7201a8\"],[0.3333333333333333,\"#9c179e\"],[0.4444444444444444,\"#bd3786\"],[0.5555555555555556,\"#d8576b\"],[0.6666666666666666,\"#ed7953\"],[0.7777777777777778,\"#fb9f3a\"],[0.8888888888888888,\"#fdca26\"],[1.0,\"#f0f921\"]]}],\"heatmap\":[{\"type\":\"heatmap\",\"colorbar\":{\"outlinewidth\":0,\"ticks\":\"\"},\"colorscale\":[[0.0,\"#0d0887\"],[0.1111111111111111,\"#46039f\"],[0.2222222222222222,\"#7201a8\"],[0.3333333333333333,\"#9c179e\"],[0.4444444444444444,\"#bd3786\"],[0.5555555555555556,\"#d8576b\"],[0.6666666666666666,\"#ed7953\"],[0.7777777777777778,\"#fb9f3a\"],[0.8888888888888888,\"#fdca26\"],[1.0,\"#f0f921\"]]}],\"heatmapgl\":[{\"type\":\"heatmapgl\",\"colorbar\":{\"outlinewidth\":0,\"ticks\":\"\"},\"colorscale\":[[0.0,\"#0d0887\"],[0.1111111111111111,\"#46039f\"],[0.2222222222222222,\"#7201a8\"],[0.3333333333333333,\"#9c179e\"],[0.4444444444444444,\"#bd3786\"],[0.5555555555555556,\"#d8576b\"],[0.6666666666666666,\"#ed7953\"],[0.7777777777777778,\"#fb9f3a\"],[0.8888888888888888,\"#fdca26\"],[1.0,\"#f0f921\"]]}],\"contourcarpet\":[{\"type\":\"contourcarpet\",\"colorbar\":{\"outlinewidth\":0,\"ticks\":\"\"}}],\"contour\":[{\"type\":\"contour\",\"colorbar\":{\"outlinewidth\":0,\"ticks\":\"\"},\"colorscale\":[[0.0,\"#0d0887\"],[0.1111111111111111,\"#46039f\"],[0.2222222222222222,\"#7201a8\"],[0.3333333333333333,\"#9c179e\"],[0.4444444444444444,\"#bd3786\"],[0.5555555555555556,\"#d8576b\"],[0.6666666666666666,\"#ed7953\"],[0.7777777777777778,\"#fb9f3a\"],[0.8888888888888888,\"#fdca26\"],[1.0,\"#f0f921\"]]}],\"surface\":[{\"type\":\"surface\",\"colorbar\":{\"outlinewidth\":0,\"ticks\":\"\"},\"colorscale\":[[0.0,\"#0d0887\"],[0.1111111111111111,\"#46039f\"],[0.2222222222222222,\"#7201a8\"],[0.3333333333333333,\"#9c179e\"],[0.4444444444444444,\"#bd3786\"],[0.5555555555555556,\"#d8576b\"],[0.6666666666666666,\"#ed7953\"],[0.7777777777777778,\"#fb9f3a\"],[0.8888888888888888,\"#fdca26\"],[1.0,\"#f0f921\"]]}],\"mesh3d\":[{\"type\":\"mesh3d\",\"colorbar\":{\"outlinewidth\":0,\"ticks\":\"\"}}],\"scatter\":[{\"fillpattern\":{\"fillmode\":\"overlay\",\"size\":10,\"solidity\":0.2},\"type\":\"scatter\"}],\"parcoords\":[{\"type\":\"parcoords\",\"line\":{\"colorbar\":{\"outlinewidth\":0,\"ticks\":\"\"}}}],\"scatterpolargl\":[{\"type\":\"scatterpolargl\",\"marker\":{\"colorbar\":{\"outlinewidth\":0,\"ticks\":\"\"}}}],\"bar\":[{\"error_x\":{\"color\":\"#2a3f5f\"},\"error_y\":{\"color\":\"#2a3f5f\"},\"marker\":{\"line\":{\"color\":\"#E5ECF6\",\"width\":0.5},\"pattern\":{\"fillmode\":\"overlay\",\"size\":10,\"solidity\":0.2}},\"type\":\"bar\"}],\"scattergeo\":[{\"type\":\"scattergeo\",\"marker\":{\"colorbar\":{\"outlinewidth\":0,\"ticks\":\"\"}}}],\"scatterpolar\":[{\"type\":\"scatterpolar\",\"marker\":{\"colorbar\":{\"outlinewidth\":0,\"ticks\":\"\"}}}],\"histogram\":[{\"marker\":{\"pattern\":{\"fillmode\":\"overlay\",\"size\":10,\"solidity\":0.2}},\"type\":\"histogram\"}],\"scattergl\":[{\"type\":\"scattergl\",\"marker\":{\"colorbar\":{\"outlinewidth\":0,\"ticks\":\"\"}}}],\"scatter3d\":[{\"type\":\"scatter3d\",\"line\":{\"colorbar\":{\"outlinewidth\":0,\"ticks\":\"\"}},\"marker\":{\"colorbar\":{\"outlinewidth\":0,\"ticks\":\"\"}}}],\"scattermapbox\":[{\"type\":\"scattermapbox\",\"marker\":{\"colorbar\":{\"outlinewidth\":0,\"ticks\":\"\"}}}],\"scatterternary\":[{\"type\":\"scatterternary\",\"marker\":{\"colorbar\":{\"outlinewidth\":0,\"ticks\":\"\"}}}],\"scattercarpet\":[{\"type\":\"scattercarpet\",\"marker\":{\"colorbar\":{\"outlinewidth\":0,\"ticks\":\"\"}}}],\"carpet\":[{\"aaxis\":{\"endlinecolor\":\"#2a3f5f\",\"gridcolor\":\"white\",\"linecolor\":\"white\",\"minorgridcolor\":\"white\",\"startlinecolor\":\"#2a3f5f\"},\"baxis\":{\"endlinecolor\":\"#2a3f5f\",\"gridcolor\":\"white\",\"linecolor\":\"white\",\"minorgridcolor\":\"white\",\"startlinecolor\":\"#2a3f5f\"},\"type\":\"carpet\"}],\"table\":[{\"cells\":{\"fill\":{\"color\":\"#EBF0F8\"},\"line\":{\"color\":\"white\"}},\"header\":{\"fill\":{\"color\":\"#C8D4E3\"},\"line\":{\"color\":\"white\"}},\"type\":\"table\"}],\"barpolar\":[{\"marker\":{\"line\":{\"color\":\"#E5ECF6\",\"width\":0.5},\"pattern\":{\"fillmode\":\"overlay\",\"size\":10,\"solidity\":0.2}},\"type\":\"barpolar\"}],\"pie\":[{\"automargin\":true,\"type\":\"pie\"}]},\"layout\":{\"autotypenumbers\":\"strict\",\"colorway\":[\"#636efa\",\"#EF553B\",\"#00cc96\",\"#ab63fa\",\"#FFA15A\",\"#19d3f3\",\"#FF6692\",\"#B6E880\",\"#FF97FF\",\"#FECB52\"],\"font\":{\"color\":\"#2a3f5f\"},\"hovermode\":\"closest\",\"hoverlabel\":{\"align\":\"left\"},\"paper_bgcolor\":\"white\",\"plot_bgcolor\":\"#E5ECF6\",\"polar\":{\"bgcolor\":\"#E5ECF6\",\"angularaxis\":{\"gridcolor\":\"white\",\"linecolor\":\"white\",\"ticks\":\"\"},\"radialaxis\":{\"gridcolor\":\"white\",\"linecolor\":\"white\",\"ticks\":\"\"}},\"ternary\":{\"bgcolor\":\"#E5ECF6\",\"aaxis\":{\"gridcolor\":\"white\",\"linecolor\":\"white\",\"ticks\":\"\"},\"baxis\":{\"gridcolor\":\"white\",\"linecolor\":\"white\",\"ticks\":\"\"},\"caxis\":{\"gridcolor\":\"white\",\"linecolor\":\"white\",\"ticks\":\"\"}},\"coloraxis\":{\"colorbar\":{\"outlinewidth\":0,\"ticks\":\"\"}},\"colorscale\":{\"sequential\":[[0.0,\"#0d0887\"],[0.1111111111111111,\"#46039f\"],[0.2222222222222222,\"#7201a8\"],[0.3333333333333333,\"#9c179e\"],[0.4444444444444444,\"#bd3786\"],[0.5555555555555556,\"#d8576b\"],[0.6666666666666666,\"#ed7953\"],[0.7777777777777778,\"#fb9f3a\"],[0.8888888888888888,\"#fdca26\"],[1.0,\"#f0f921\"]],\"sequentialminus\":[[0.0,\"#0d0887\"],[0.1111111111111111,\"#46039f\"],[0.2222222222222222,\"#7201a8\"],[0.3333333333333333,\"#9c179e\"],[0.4444444444444444,\"#bd3786\"],[0.5555555555555556,\"#d8576b\"],[0.6666666666666666,\"#ed7953\"],[0.7777777777777778,\"#fb9f3a\"],[0.8888888888888888,\"#fdca26\"],[1.0,\"#f0f921\"]],\"diverging\":[[0,\"#8e0152\"],[0.1,\"#c51b7d\"],[0.2,\"#de77ae\"],[0.3,\"#f1b6da\"],[0.4,\"#fde0ef\"],[0.5,\"#f7f7f7\"],[0.6,\"#e6f5d0\"],[0.7,\"#b8e186\"],[0.8,\"#7fbc41\"],[0.9,\"#4d9221\"],[1,\"#276419\"]]},\"xaxis\":{\"gridcolor\":\"white\",\"linecolor\":\"white\",\"ticks\":\"\",\"title\":{\"standoff\":15},\"zerolinecolor\":\"white\",\"automargin\":true,\"zerolinewidth\":2},\"yaxis\":{\"gridcolor\":\"white\",\"linecolor\":\"white\",\"ticks\":\"\",\"title\":{\"standoff\":15},\"zerolinecolor\":\"white\",\"automargin\":true,\"zerolinewidth\":2},\"scene\":{\"xaxis\":{\"backgroundcolor\":\"#E5ECF6\",\"gridcolor\":\"white\",\"linecolor\":\"white\",\"showbackground\":true,\"ticks\":\"\",\"zerolinecolor\":\"white\",\"gridwidth\":2},\"yaxis\":{\"backgroundcolor\":\"#E5ECF6\",\"gridcolor\":\"white\",\"linecolor\":\"white\",\"showbackground\":true,\"ticks\":\"\",\"zerolinecolor\":\"white\",\"gridwidth\":2},\"zaxis\":{\"backgroundcolor\":\"#E5ECF6\",\"gridcolor\":\"white\",\"linecolor\":\"white\",\"showbackground\":true,\"ticks\":\"\",\"zerolinecolor\":\"white\",\"gridwidth\":2}},\"shapedefaults\":{\"line\":{\"color\":\"#2a3f5f\"}},\"annotationdefaults\":{\"arrowcolor\":\"#2a3f5f\",\"arrowhead\":0,\"arrowwidth\":1},\"geo\":{\"bgcolor\":\"white\",\"landcolor\":\"#E5ECF6\",\"subunitcolor\":\"white\",\"showland\":true,\"showlakes\":true,\"lakecolor\":\"white\"},\"title\":{\"x\":0.05},\"mapbox\":{\"style\":\"light\"}}},\"scene\":{\"camera\":{\"eye\":{\"x\":-0.2,\"y\":-2.2,\"z\":-0.05},\"up\":{\"x\":0,\"y\":0,\"z\":1},\"center\":{\"x\":0,\"y\":0,\"z\":0}},\"xaxis\":{\"nticks\":10,\"range\":[10.402071914582267,204.74499978453954]},\"yaxis\":{\"nticks\":10,\"range\":[247.99612984564018,1965.6358282381086]},\"zaxis\":{\"nticks\":10,\"range\":[-123.09144767179744,189.45218699549412]},\"aspectmode\":\"data\"},\"margin\":{\"l\":0,\"r\":0,\"b\":0,\"t\":40}},                        {\"responsive\": true}                    ).then(function(){\n",
       "                            \n",
       "var gd = document.getElementById('d234f582-ca1b-47e5-a8be-4946451e9d80');\n",
       "var x = new MutationObserver(function (mutations, observer) {{\n",
       "        var display = window.getComputedStyle(gd).display;\n",
       "        if (!display || display === 'none') {{\n",
       "            console.log([gd, 'removed!']);\n",
       "            Plotly.purge(gd);\n",
       "            observer.disconnect();\n",
       "        }}\n",
       "}});\n",
       "\n",
       "// Listen for the removal of the full notebook cells\n",
       "var notebookContainer = gd.closest('#notebook-container');\n",
       "if (notebookContainer) {{\n",
       "    x.observe(notebookContainer, {childList: true});\n",
       "}}\n",
       "\n",
       "// Listen for the clearing of the current output cell\n",
       "var outputEl = gd.closest('.output');\n",
       "if (outputEl) {{\n",
       "    x.observe(outputEl, {childList: true});\n",
       "}}\n",
       "\n",
       "                        })                };                });            </script>        </div>"
      ]
     },
     "metadata": {},
     "output_type": "display_data"
    }
   ],
   "source": [
    "import plotly.graph_objs as go\n",
    "\n",
    "orion_colors = [\"red\", \"red\", \"red\",\n",
    "                \"blue\",\"blue\",\"blue\",\n",
    "                \"red\", \"red\"]\n",
    "\n",
    "fig = go.Figure(data=[go.Scatter3d(\n",
    "    x=x, y=y, z=z,\n",
    "    mode='markers',\n",
    "    marker=dict(size = 3, color=orion_colors, opacity=0.8),\n",
    "    text=orion_stars, \n",
    ")])\n",
    "\n",
    "# Configuración de la vista del gráfico\n",
    "camera = dict(eye = dict(x=-0.2, y=-2.2, z=-0.05),\n",
    "              up = dict(x=0, y=0, z=1),\n",
    "              center = dict(x=0, y=0, z=0))\n",
    "\n",
    "# Ajustar las escalas de los ejes para que sean iguales\n",
    "fig.update_layout(\n",
    "    scene=dict(camera = camera,\n",
    "               xaxis=dict(nticks=10, range=[min(x), max(x)], ),\n",
    "               yaxis=dict(nticks=10, range=[min(y), max(y)], ),\n",
    "               zaxis=dict(nticks=10, range=[min(z), max(z)], ),\n",
    "               aspectmode='data'),\n",
    "               margin = dict(l=0, r=0, b=0, t=40))"
   ]
  },
  {
   "cell_type": "code",
   "execution_count": 67,
   "id": "e828b53e",
   "metadata": {},
   "outputs": [],
   "source": [
    "# Exportar como HTML\n",
    "fig.write_html(\"index.html\")"
   ]
  },
  {
   "cell_type": "code",
   "execution_count": null,
   "id": "aea2bc7f",
   "metadata": {},
   "outputs": [],
   "source": []
  }
 ],
 "metadata": {
  "kernelspec": {
   "display_name": "Python 3 (ipykernel)",
   "language": "python",
   "name": "python3"
  },
  "language_info": {
   "codemirror_mode": {
    "name": "ipython",
    "version": 3
   },
   "file_extension": ".py",
   "mimetype": "text/x-python",
   "name": "python",
   "nbconvert_exporter": "python",
   "pygments_lexer": "ipython3",
   "version": "3.9.13"
  }
 },
 "nbformat": 4,
 "nbformat_minor": 5
}
